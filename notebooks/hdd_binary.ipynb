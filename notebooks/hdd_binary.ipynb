{
  "cells": [
    {
      "cell_type": "markdown",
      "source": [
        "# **Classificação: Presença de Doença Cardíaca - Redes Neurais**"
      ],
      "metadata": {
        "id": "CpVzvm9EVQ2W"
      }
    },
    {
      "cell_type": "markdown",
      "source": [
        "## Dependências"
      ],
      "metadata": {
        "id": "A5alOGDyVf4l"
      }
    },
    {
      "cell_type": "code",
      "execution_count": 60,
      "metadata": {
        "colab": {
          "base_uri": "https://localhost:8080/"
        },
        "id": "mpFmno3f9vDz",
        "outputId": "d7d229d0-cf85-4505-ca92-582335fb7298"
      },
      "outputs": [
        {
          "output_type": "stream",
          "name": "stdout",
          "text": [
            "Requirement already satisfied: ucimlrepo in /usr/local/lib/python3.10/dist-packages (0.0.7)\n",
            "Requirement already satisfied: pandas>=1.0.0 in /usr/local/lib/python3.10/dist-packages (from ucimlrepo) (2.2.2)\n",
            "Requirement already satisfied: certifi>=2020.12.5 in /usr/local/lib/python3.10/dist-packages (from ucimlrepo) (2024.8.30)\n",
            "Requirement already satisfied: numpy>=1.22.4 in /usr/local/lib/python3.10/dist-packages (from pandas>=1.0.0->ucimlrepo) (1.26.4)\n",
            "Requirement already satisfied: python-dateutil>=2.8.2 in /usr/local/lib/python3.10/dist-packages (from pandas>=1.0.0->ucimlrepo) (2.8.2)\n",
            "Requirement already satisfied: pytz>=2020.1 in /usr/local/lib/python3.10/dist-packages (from pandas>=1.0.0->ucimlrepo) (2024.2)\n",
            "Requirement already satisfied: tzdata>=2022.7 in /usr/local/lib/python3.10/dist-packages (from pandas>=1.0.0->ucimlrepo) (2024.2)\n",
            "Requirement already satisfied: six>=1.5 in /usr/local/lib/python3.10/dist-packages (from python-dateutil>=2.8.2->pandas>=1.0.0->ucimlrepo) (1.16.0)\n",
            "\n",
            "TensorFlow: 2.17.0\n",
            "Numpy: 1.26.4\n"
          ]
        }
      ],
      "source": [
        "# dataset UCI\n",
        "\n",
        "!pip install ucimlrepo\n",
        "from ucimlrepo import fetch_ucirepo\n",
        "\n",
        "# tf, keras\n",
        "\n",
        "import tensorflow as tf\n",
        "from tensorflow import keras\n",
        "from keras import layers\n",
        "from keras import Model\n",
        "from keras.layers import Dense, Dropout, BatchNormalization\n",
        "from keras.layers import LeakyReLU, ReLU\n",
        "from keras import regularizers\n",
        "from keras.optimizers import Adam\n",
        "from keras.callbacks import EarlyStopping\n",
        "\n",
        "# np, Plt, seaborn\n",
        "\n",
        "import pandas as pd\n",
        "import numpy as np\n",
        "import matplotlib.pyplot as plt\n",
        "from matplotlib.image import imread\n",
        "\n",
        "# sk-learn\n",
        "\n",
        "from sklearn.preprocessing import MinMaxScaler\n",
        "from sklearn.preprocessing import OneHotEncoder\n",
        "from sklearn.model_selection import train_test_split\n",
        "from sklearn.metrics import accuracy_score, confusion_matrix, classification_report\n",
        "\n",
        "print('\\nTensorFlow: {}'.format(tf.__version__))\n",
        "print('Numpy: {}'.format(np.__version__))"
      ]
    },
    {
      "cell_type": "markdown",
      "source": [
        "## Dataset"
      ],
      "metadata": {
        "id": "6ySO6dZ6Vi-V"
      }
    },
    {
      "cell_type": "code",
      "execution_count": 61,
      "metadata": {
        "colab": {
          "base_uri": "https://localhost:8080/",
          "height": 206
        },
        "id": "cE1LpJQVADX7",
        "outputId": "d74bc29e-1e11-4f17-9a25-101c7a56d547"
      },
      "outputs": [
        {
          "output_type": "execute_result",
          "data": {
            "text/plain": [
              "   age  sex  cp  trestbps  chol  fbs  restecg  thalach  exang  oldpeak  slope  \\\n",
              "0   63    1   1       145   233    1        2      150      0      2.3      3   \n",
              "1   67    1   4       160   286    0        2      108      1      1.5      2   \n",
              "2   67    1   4       120   229    0        2      129      1      2.6      2   \n",
              "3   37    1   3       130   250    0        0      187      0      3.5      3   \n",
              "4   41    0   2       130   204    0        2      172      0      1.4      1   \n",
              "\n",
              "    ca  thal  target  \n",
              "0  0.0   6.0       0  \n",
              "1  3.0   3.0       1  \n",
              "2  2.0   7.0       1  \n",
              "3  0.0   3.0       0  \n",
              "4  0.0   3.0       0  "
            ],
            "text/html": [
              "\n",
              "  <div id=\"df-07f16eb4-9196-448d-84ec-8e6de0af1247\" class=\"colab-df-container\">\n",
              "    <div>\n",
              "<style scoped>\n",
              "    .dataframe tbody tr th:only-of-type {\n",
              "        vertical-align: middle;\n",
              "    }\n",
              "\n",
              "    .dataframe tbody tr th {\n",
              "        vertical-align: top;\n",
              "    }\n",
              "\n",
              "    .dataframe thead th {\n",
              "        text-align: right;\n",
              "    }\n",
              "</style>\n",
              "<table border=\"1\" class=\"dataframe\">\n",
              "  <thead>\n",
              "    <tr style=\"text-align: right;\">\n",
              "      <th></th>\n",
              "      <th>age</th>\n",
              "      <th>sex</th>\n",
              "      <th>cp</th>\n",
              "      <th>trestbps</th>\n",
              "      <th>chol</th>\n",
              "      <th>fbs</th>\n",
              "      <th>restecg</th>\n",
              "      <th>thalach</th>\n",
              "      <th>exang</th>\n",
              "      <th>oldpeak</th>\n",
              "      <th>slope</th>\n",
              "      <th>ca</th>\n",
              "      <th>thal</th>\n",
              "      <th>target</th>\n",
              "    </tr>\n",
              "  </thead>\n",
              "  <tbody>\n",
              "    <tr>\n",
              "      <th>0</th>\n",
              "      <td>63</td>\n",
              "      <td>1</td>\n",
              "      <td>1</td>\n",
              "      <td>145</td>\n",
              "      <td>233</td>\n",
              "      <td>1</td>\n",
              "      <td>2</td>\n",
              "      <td>150</td>\n",
              "      <td>0</td>\n",
              "      <td>2.3</td>\n",
              "      <td>3</td>\n",
              "      <td>0.0</td>\n",
              "      <td>6.0</td>\n",
              "      <td>0</td>\n",
              "    </tr>\n",
              "    <tr>\n",
              "      <th>1</th>\n",
              "      <td>67</td>\n",
              "      <td>1</td>\n",
              "      <td>4</td>\n",
              "      <td>160</td>\n",
              "      <td>286</td>\n",
              "      <td>0</td>\n",
              "      <td>2</td>\n",
              "      <td>108</td>\n",
              "      <td>1</td>\n",
              "      <td>1.5</td>\n",
              "      <td>2</td>\n",
              "      <td>3.0</td>\n",
              "      <td>3.0</td>\n",
              "      <td>1</td>\n",
              "    </tr>\n",
              "    <tr>\n",
              "      <th>2</th>\n",
              "      <td>67</td>\n",
              "      <td>1</td>\n",
              "      <td>4</td>\n",
              "      <td>120</td>\n",
              "      <td>229</td>\n",
              "      <td>0</td>\n",
              "      <td>2</td>\n",
              "      <td>129</td>\n",
              "      <td>1</td>\n",
              "      <td>2.6</td>\n",
              "      <td>2</td>\n",
              "      <td>2.0</td>\n",
              "      <td>7.0</td>\n",
              "      <td>1</td>\n",
              "    </tr>\n",
              "    <tr>\n",
              "      <th>3</th>\n",
              "      <td>37</td>\n",
              "      <td>1</td>\n",
              "      <td>3</td>\n",
              "      <td>130</td>\n",
              "      <td>250</td>\n",
              "      <td>0</td>\n",
              "      <td>0</td>\n",
              "      <td>187</td>\n",
              "      <td>0</td>\n",
              "      <td>3.5</td>\n",
              "      <td>3</td>\n",
              "      <td>0.0</td>\n",
              "      <td>3.0</td>\n",
              "      <td>0</td>\n",
              "    </tr>\n",
              "    <tr>\n",
              "      <th>4</th>\n",
              "      <td>41</td>\n",
              "      <td>0</td>\n",
              "      <td>2</td>\n",
              "      <td>130</td>\n",
              "      <td>204</td>\n",
              "      <td>0</td>\n",
              "      <td>2</td>\n",
              "      <td>172</td>\n",
              "      <td>0</td>\n",
              "      <td>1.4</td>\n",
              "      <td>1</td>\n",
              "      <td>0.0</td>\n",
              "      <td>3.0</td>\n",
              "      <td>0</td>\n",
              "    </tr>\n",
              "  </tbody>\n",
              "</table>\n",
              "</div>\n",
              "    <div class=\"colab-df-buttons\">\n",
              "\n",
              "  <div class=\"colab-df-container\">\n",
              "    <button class=\"colab-df-convert\" onclick=\"convertToInteractive('df-07f16eb4-9196-448d-84ec-8e6de0af1247')\"\n",
              "            title=\"Convert this dataframe to an interactive table.\"\n",
              "            style=\"display:none;\">\n",
              "\n",
              "  <svg xmlns=\"http://www.w3.org/2000/svg\" height=\"24px\" viewBox=\"0 -960 960 960\">\n",
              "    <path d=\"M120-120v-720h720v720H120Zm60-500h600v-160H180v160Zm220 220h160v-160H400v160Zm0 220h160v-160H400v160ZM180-400h160v-160H180v160Zm440 0h160v-160H620v160ZM180-180h160v-160H180v160Zm440 0h160v-160H620v160Z\"/>\n",
              "  </svg>\n",
              "    </button>\n",
              "\n",
              "  <style>\n",
              "    .colab-df-container {\n",
              "      display:flex;\n",
              "      gap: 12px;\n",
              "    }\n",
              "\n",
              "    .colab-df-convert {\n",
              "      background-color: #E8F0FE;\n",
              "      border: none;\n",
              "      border-radius: 50%;\n",
              "      cursor: pointer;\n",
              "      display: none;\n",
              "      fill: #1967D2;\n",
              "      height: 32px;\n",
              "      padding: 0 0 0 0;\n",
              "      width: 32px;\n",
              "    }\n",
              "\n",
              "    .colab-df-convert:hover {\n",
              "      background-color: #E2EBFA;\n",
              "      box-shadow: 0px 1px 2px rgba(60, 64, 67, 0.3), 0px 1px 3px 1px rgba(60, 64, 67, 0.15);\n",
              "      fill: #174EA6;\n",
              "    }\n",
              "\n",
              "    .colab-df-buttons div {\n",
              "      margin-bottom: 4px;\n",
              "    }\n",
              "\n",
              "    [theme=dark] .colab-df-convert {\n",
              "      background-color: #3B4455;\n",
              "      fill: #D2E3FC;\n",
              "    }\n",
              "\n",
              "    [theme=dark] .colab-df-convert:hover {\n",
              "      background-color: #434B5C;\n",
              "      box-shadow: 0px 1px 3px 1px rgba(0, 0, 0, 0.15);\n",
              "      filter: drop-shadow(0px 1px 2px rgba(0, 0, 0, 0.3));\n",
              "      fill: #FFFFFF;\n",
              "    }\n",
              "  </style>\n",
              "\n",
              "    <script>\n",
              "      const buttonEl =\n",
              "        document.querySelector('#df-07f16eb4-9196-448d-84ec-8e6de0af1247 button.colab-df-convert');\n",
              "      buttonEl.style.display =\n",
              "        google.colab.kernel.accessAllowed ? 'block' : 'none';\n",
              "\n",
              "      async function convertToInteractive(key) {\n",
              "        const element = document.querySelector('#df-07f16eb4-9196-448d-84ec-8e6de0af1247');\n",
              "        const dataTable =\n",
              "          await google.colab.kernel.invokeFunction('convertToInteractive',\n",
              "                                                    [key], {});\n",
              "        if (!dataTable) return;\n",
              "\n",
              "        const docLinkHtml = 'Like what you see? Visit the ' +\n",
              "          '<a target=\"_blank\" href=https://colab.research.google.com/notebooks/data_table.ipynb>data table notebook</a>'\n",
              "          + ' to learn more about interactive tables.';\n",
              "        element.innerHTML = '';\n",
              "        dataTable['output_type'] = 'display_data';\n",
              "        await google.colab.output.renderOutput(dataTable, element);\n",
              "        const docLink = document.createElement('div');\n",
              "        docLink.innerHTML = docLinkHtml;\n",
              "        element.appendChild(docLink);\n",
              "      }\n",
              "    </script>\n",
              "  </div>\n",
              "\n",
              "\n",
              "<div id=\"df-99680109-61f0-4542-859c-4ebd2e840d89\">\n",
              "  <button class=\"colab-df-quickchart\" onclick=\"quickchart('df-99680109-61f0-4542-859c-4ebd2e840d89')\"\n",
              "            title=\"Suggest charts\"\n",
              "            style=\"display:none;\">\n",
              "\n",
              "<svg xmlns=\"http://www.w3.org/2000/svg\" height=\"24px\"viewBox=\"0 0 24 24\"\n",
              "     width=\"24px\">\n",
              "    <g>\n",
              "        <path d=\"M19 3H5c-1.1 0-2 .9-2 2v14c0 1.1.9 2 2 2h14c1.1 0 2-.9 2-2V5c0-1.1-.9-2-2-2zM9 17H7v-7h2v7zm4 0h-2V7h2v10zm4 0h-2v-4h2v4z\"/>\n",
              "    </g>\n",
              "</svg>\n",
              "  </button>\n",
              "\n",
              "<style>\n",
              "  .colab-df-quickchart {\n",
              "      --bg-color: #E8F0FE;\n",
              "      --fill-color: #1967D2;\n",
              "      --hover-bg-color: #E2EBFA;\n",
              "      --hover-fill-color: #174EA6;\n",
              "      --disabled-fill-color: #AAA;\n",
              "      --disabled-bg-color: #DDD;\n",
              "  }\n",
              "\n",
              "  [theme=dark] .colab-df-quickchart {\n",
              "      --bg-color: #3B4455;\n",
              "      --fill-color: #D2E3FC;\n",
              "      --hover-bg-color: #434B5C;\n",
              "      --hover-fill-color: #FFFFFF;\n",
              "      --disabled-bg-color: #3B4455;\n",
              "      --disabled-fill-color: #666;\n",
              "  }\n",
              "\n",
              "  .colab-df-quickchart {\n",
              "    background-color: var(--bg-color);\n",
              "    border: none;\n",
              "    border-radius: 50%;\n",
              "    cursor: pointer;\n",
              "    display: none;\n",
              "    fill: var(--fill-color);\n",
              "    height: 32px;\n",
              "    padding: 0;\n",
              "    width: 32px;\n",
              "  }\n",
              "\n",
              "  .colab-df-quickchart:hover {\n",
              "    background-color: var(--hover-bg-color);\n",
              "    box-shadow: 0 1px 2px rgba(60, 64, 67, 0.3), 0 1px 3px 1px rgba(60, 64, 67, 0.15);\n",
              "    fill: var(--button-hover-fill-color);\n",
              "  }\n",
              "\n",
              "  .colab-df-quickchart-complete:disabled,\n",
              "  .colab-df-quickchart-complete:disabled:hover {\n",
              "    background-color: var(--disabled-bg-color);\n",
              "    fill: var(--disabled-fill-color);\n",
              "    box-shadow: none;\n",
              "  }\n",
              "\n",
              "  .colab-df-spinner {\n",
              "    border: 2px solid var(--fill-color);\n",
              "    border-color: transparent;\n",
              "    border-bottom-color: var(--fill-color);\n",
              "    animation:\n",
              "      spin 1s steps(1) infinite;\n",
              "  }\n",
              "\n",
              "  @keyframes spin {\n",
              "    0% {\n",
              "      border-color: transparent;\n",
              "      border-bottom-color: var(--fill-color);\n",
              "      border-left-color: var(--fill-color);\n",
              "    }\n",
              "    20% {\n",
              "      border-color: transparent;\n",
              "      border-left-color: var(--fill-color);\n",
              "      border-top-color: var(--fill-color);\n",
              "    }\n",
              "    30% {\n",
              "      border-color: transparent;\n",
              "      border-left-color: var(--fill-color);\n",
              "      border-top-color: var(--fill-color);\n",
              "      border-right-color: var(--fill-color);\n",
              "    }\n",
              "    40% {\n",
              "      border-color: transparent;\n",
              "      border-right-color: var(--fill-color);\n",
              "      border-top-color: var(--fill-color);\n",
              "    }\n",
              "    60% {\n",
              "      border-color: transparent;\n",
              "      border-right-color: var(--fill-color);\n",
              "    }\n",
              "    80% {\n",
              "      border-color: transparent;\n",
              "      border-right-color: var(--fill-color);\n",
              "      border-bottom-color: var(--fill-color);\n",
              "    }\n",
              "    90% {\n",
              "      border-color: transparent;\n",
              "      border-bottom-color: var(--fill-color);\n",
              "    }\n",
              "  }\n",
              "</style>\n",
              "\n",
              "  <script>\n",
              "    async function quickchart(key) {\n",
              "      const quickchartButtonEl =\n",
              "        document.querySelector('#' + key + ' button');\n",
              "      quickchartButtonEl.disabled = true;  // To prevent multiple clicks.\n",
              "      quickchartButtonEl.classList.add('colab-df-spinner');\n",
              "      try {\n",
              "        const charts = await google.colab.kernel.invokeFunction(\n",
              "            'suggestCharts', [key], {});\n",
              "      } catch (error) {\n",
              "        console.error('Error during call to suggestCharts:', error);\n",
              "      }\n",
              "      quickchartButtonEl.classList.remove('colab-df-spinner');\n",
              "      quickchartButtonEl.classList.add('colab-df-quickchart-complete');\n",
              "    }\n",
              "    (() => {\n",
              "      let quickchartButtonEl =\n",
              "        document.querySelector('#df-99680109-61f0-4542-859c-4ebd2e840d89 button');\n",
              "      quickchartButtonEl.style.display =\n",
              "        google.colab.kernel.accessAllowed ? 'block' : 'none';\n",
              "    })();\n",
              "  </script>\n",
              "</div>\n",
              "\n",
              "    </div>\n",
              "  </div>\n"
            ],
            "application/vnd.google.colaboratory.intrinsic+json": {
              "type": "dataframe",
              "variable_name": "df",
              "summary": "{\n  \"name\": \"df\",\n  \"rows\": 303,\n  \"fields\": [\n    {\n      \"column\": \"age\",\n      \"properties\": {\n        \"dtype\": \"number\",\n        \"std\": 9,\n        \"min\": 29,\n        \"max\": 77,\n        \"num_unique_values\": 41,\n        \"samples\": [\n          61,\n          64,\n          44\n        ],\n        \"semantic_type\": \"\",\n        \"description\": \"\"\n      }\n    },\n    {\n      \"column\": \"sex\",\n      \"properties\": {\n        \"dtype\": \"number\",\n        \"std\": 0,\n        \"min\": 0,\n        \"max\": 1,\n        \"num_unique_values\": 2,\n        \"samples\": [\n          0,\n          1\n        ],\n        \"semantic_type\": \"\",\n        \"description\": \"\"\n      }\n    },\n    {\n      \"column\": \"cp\",\n      \"properties\": {\n        \"dtype\": \"number\",\n        \"std\": 0,\n        \"min\": 1,\n        \"max\": 4,\n        \"num_unique_values\": 4,\n        \"samples\": [\n          4,\n          2\n        ],\n        \"semantic_type\": \"\",\n        \"description\": \"\"\n      }\n    },\n    {\n      \"column\": \"trestbps\",\n      \"properties\": {\n        \"dtype\": \"number\",\n        \"std\": 17,\n        \"min\": 94,\n        \"max\": 200,\n        \"num_unique_values\": 50,\n        \"samples\": [\n          124,\n          192\n        ],\n        \"semantic_type\": \"\",\n        \"description\": \"\"\n      }\n    },\n    {\n      \"column\": \"chol\",\n      \"properties\": {\n        \"dtype\": \"number\",\n        \"std\": 51,\n        \"min\": 126,\n        \"max\": 564,\n        \"num_unique_values\": 152,\n        \"samples\": [\n          321,\n          187\n        ],\n        \"semantic_type\": \"\",\n        \"description\": \"\"\n      }\n    },\n    {\n      \"column\": \"fbs\",\n      \"properties\": {\n        \"dtype\": \"number\",\n        \"std\": 0,\n        \"min\": 0,\n        \"max\": 1,\n        \"num_unique_values\": 2,\n        \"samples\": [\n          0,\n          1\n        ],\n        \"semantic_type\": \"\",\n        \"description\": \"\"\n      }\n    },\n    {\n      \"column\": \"restecg\",\n      \"properties\": {\n        \"dtype\": \"number\",\n        \"std\": 0,\n        \"min\": 0,\n        \"max\": 2,\n        \"num_unique_values\": 3,\n        \"samples\": [\n          2,\n          0\n        ],\n        \"semantic_type\": \"\",\n        \"description\": \"\"\n      }\n    },\n    {\n      \"column\": \"thalach\",\n      \"properties\": {\n        \"dtype\": \"number\",\n        \"std\": 22,\n        \"min\": 71,\n        \"max\": 202,\n        \"num_unique_values\": 91,\n        \"samples\": [\n          170,\n          114\n        ],\n        \"semantic_type\": \"\",\n        \"description\": \"\"\n      }\n    },\n    {\n      \"column\": \"exang\",\n      \"properties\": {\n        \"dtype\": \"number\",\n        \"std\": 0,\n        \"min\": 0,\n        \"max\": 1,\n        \"num_unique_values\": 2,\n        \"samples\": [\n          1,\n          0\n        ],\n        \"semantic_type\": \"\",\n        \"description\": \"\"\n      }\n    },\n    {\n      \"column\": \"oldpeak\",\n      \"properties\": {\n        \"dtype\": \"number\",\n        \"std\": 1.161075022068634,\n        \"min\": 0.0,\n        \"max\": 6.2,\n        \"num_unique_values\": 40,\n        \"samples\": [\n          2.4,\n          0.2\n        ],\n        \"semantic_type\": \"\",\n        \"description\": \"\"\n      }\n    },\n    {\n      \"column\": \"slope\",\n      \"properties\": {\n        \"dtype\": \"number\",\n        \"std\": 0,\n        \"min\": 1,\n        \"max\": 3,\n        \"num_unique_values\": 3,\n        \"samples\": [\n          3,\n          2\n        ],\n        \"semantic_type\": \"\",\n        \"description\": \"\"\n      }\n    },\n    {\n      \"column\": \"ca\",\n      \"properties\": {\n        \"dtype\": \"number\",\n        \"std\": 0.9374383177242157,\n        \"min\": 0.0,\n        \"max\": 3.0,\n        \"num_unique_values\": 4,\n        \"samples\": [\n          3.0,\n          1.0\n        ],\n        \"semantic_type\": \"\",\n        \"description\": \"\"\n      }\n    },\n    {\n      \"column\": \"thal\",\n      \"properties\": {\n        \"dtype\": \"number\",\n        \"std\": 1.9397057693786417,\n        \"min\": 3.0,\n        \"max\": 7.0,\n        \"num_unique_values\": 3,\n        \"samples\": [\n          6.0,\n          3.0\n        ],\n        \"semantic_type\": \"\",\n        \"description\": \"\"\n      }\n    },\n    {\n      \"column\": \"target\",\n      \"properties\": {\n        \"dtype\": \"number\",\n        \"std\": 0,\n        \"min\": 0,\n        \"max\": 1,\n        \"num_unique_values\": 2,\n        \"samples\": [\n          1,\n          0\n        ],\n        \"semantic_type\": \"\",\n        \"description\": \"\"\n      }\n    }\n  ]\n}"
            }
          },
          "metadata": {},
          "execution_count": 61
        }
      ],
      "source": [
        "# fetch dataset\n",
        "dados = fetch_ucirepo(id=45)\n",
        "\n",
        "features = dados.data.features\n",
        "targets = dados.data.targets\n",
        "\n",
        "df = features\n",
        "df['target'] = targets\n",
        "df['target'] = df['target'].apply(lambda x: 1 if x >= 1 else 0)\n",
        "df.head(5)"
      ]
    },
    {
      "cell_type": "markdown",
      "source": [
        "## NAs, Split"
      ],
      "metadata": {
        "id": "yCY_3IXJVqBp"
      }
    },
    {
      "cell_type": "code",
      "execution_count": 62,
      "metadata": {
        "id": "ShxiXv2jA7gW"
      },
      "outputs": [],
      "source": [
        "df = df[~df.isin(['?'])]\n",
        "df = df.dropna(axis=0)"
      ]
    },
    {
      "cell_type": "code",
      "execution_count": 63,
      "metadata": {
        "id": "ZqCySAiNBWex"
      },
      "outputs": [],
      "source": [
        "# X, y split\n",
        "\n",
        "X = df.drop(['target'], axis=1)\n",
        "y =  df['target']"
      ]
    },
    {
      "cell_type": "markdown",
      "source": [
        "## Train_Test, Normalização"
      ],
      "metadata": {
        "id": "nvxHNm2JVwVC"
      }
    },
    {
      "cell_type": "code",
      "execution_count": 64,
      "metadata": {
        "id": "-L2E_J8RA9VX"
      },
      "outputs": [],
      "source": [
        "X_train, X_test, y_train, y_test = train_test_split(X, y, test_size=0.2)"
      ]
    },
    {
      "cell_type": "code",
      "execution_count": 65,
      "metadata": {
        "id": "bLFh4IhxBNJu"
      },
      "outputs": [],
      "source": [
        "scaler = MinMaxScaler()"
      ]
    },
    {
      "cell_type": "code",
      "execution_count": 66,
      "metadata": {
        "colab": {
          "base_uri": "https://localhost:8080/"
        },
        "id": "HnDZES2PA3Mf",
        "outputId": "b113e73f-c84d-4246-ed7b-a23e2bab575b"
      },
      "outputs": [
        {
          "output_type": "execute_result",
          "data": {
            "text/plain": [
              "(237, 13)"
            ]
          },
          "metadata": {},
          "execution_count": 66
        }
      ],
      "source": [
        "# Normalização\n",
        "\n",
        "X_train = scaler.fit_transform(X_train)\n",
        "X_test = scaler.fit_transform(X_test)\n",
        "\n",
        "X_train.shape"
      ]
    },
    {
      "cell_type": "markdown",
      "metadata": {
        "id": "Xmr8gKT59jIM"
      },
      "source": [
        "## **Modelo Binário**"
      ]
    },
    {
      "cell_type": "code",
      "execution_count": 72,
      "metadata": {
        "id": "VVl6QV-O9eN8"
      },
      "outputs": [],
      "source": [
        "model = keras.Sequential()\n",
        "\n",
        "# Entrada\n",
        "model.add(keras.Input(shape=(13,)))\n",
        "\n",
        "# Camada um\n",
        "model.add(Dense(8, kernel_regularizer=regularizers.l2(0.001)))\n",
        "model.add(LeakyReLU())\n",
        "model.add(BatchNormalization())\n",
        "\n",
        "# Camada dois\n",
        "model.add(Dense(16, kernel_regularizer=regularizers.l2(0.001)))\n",
        "model.add(LeakyReLU())\n",
        "model.add(BatchNormalization())\n",
        "\n",
        "# Dropout\n",
        "model.add(Dropout(0.1))\n",
        "\n",
        "# Camada tr~es\n",
        "model.add(Dense(8, kernel_regularizer=regularizers.l2(0.001)))\n",
        "model.add(LeakyReLU())\n",
        "model.add(BatchNormalization())\n",
        "\n",
        "model.add(Dense(4, kernel_regularizer=regularizers.l2(0.001)))\n",
        "model.add(LeakyReLU())\n",
        "model.add(BatchNormalization())\n",
        "\n",
        "model.add(Dense(1, activation='sigmoid'))"
      ]
    },
    {
      "cell_type": "code",
      "execution_count": 73,
      "metadata": {
        "colab": {
          "base_uri": "https://localhost:8080/"
        },
        "id": "BfHN3tSsE-I6",
        "outputId": "1336b14e-d9a4-4cdf-bba8-8743d68b2706"
      },
      "outputs": [
        {
          "output_type": "stream",
          "name": "stdout",
          "text": [
            "Epoch 1/50\n",
            "6/6 - 4s - 640ms/step - accuracy: 0.6032 - loss: 0.7112 - val_accuracy: 0.6875 - val_loss: 0.7182\n",
            "Epoch 2/50\n",
            "6/6 - 0s - 53ms/step - accuracy: 0.6402 - loss: 0.6808 - val_accuracy: 0.7500 - val_loss: 0.7153\n",
            "Epoch 3/50\n",
            "6/6 - 0s - 15ms/step - accuracy: 0.6720 - loss: 0.6484 - val_accuracy: 0.7708 - val_loss: 0.7118\n",
            "Epoch 4/50\n",
            "6/6 - 0s - 21ms/step - accuracy: 0.6825 - loss: 0.6416 - val_accuracy: 0.7708 - val_loss: 0.7071\n",
            "Epoch 5/50\n",
            "6/6 - 0s - 15ms/step - accuracy: 0.7196 - loss: 0.6028 - val_accuracy: 0.7500 - val_loss: 0.7019\n",
            "Epoch 6/50\n",
            "6/6 - 0s - 21ms/step - accuracy: 0.7566 - loss: 0.5703 - val_accuracy: 0.7292 - val_loss: 0.6958\n",
            "Epoch 7/50\n",
            "6/6 - 0s - 15ms/step - accuracy: 0.8148 - loss: 0.5457 - val_accuracy: 0.7292 - val_loss: 0.6888\n",
            "Epoch 8/50\n",
            "6/6 - 0s - 16ms/step - accuracy: 0.7937 - loss: 0.5318 - val_accuracy: 0.7292 - val_loss: 0.6816\n",
            "Epoch 9/50\n",
            "6/6 - 0s - 23ms/step - accuracy: 0.7937 - loss: 0.5324 - val_accuracy: 0.7292 - val_loss: 0.6741\n",
            "Epoch 10/50\n",
            "6/6 - 0s - 13ms/step - accuracy: 0.8307 - loss: 0.5048 - val_accuracy: 0.7500 - val_loss: 0.6667\n",
            "Epoch 11/50\n",
            "6/6 - 0s - 22ms/step - accuracy: 0.7672 - loss: 0.5255 - val_accuracy: 0.7708 - val_loss: 0.6596\n",
            "Epoch 12/50\n",
            "6/6 - 0s - 26ms/step - accuracy: 0.8042 - loss: 0.5020 - val_accuracy: 0.7500 - val_loss: 0.6523\n",
            "Epoch 13/50\n",
            "6/6 - 0s - 13ms/step - accuracy: 0.8307 - loss: 0.4719 - val_accuracy: 0.7708 - val_loss: 0.6452\n",
            "Epoch 14/50\n",
            "6/6 - 0s - 23ms/step - accuracy: 0.8201 - loss: 0.4759 - val_accuracy: 0.7708 - val_loss: 0.6378\n",
            "Epoch 15/50\n",
            "6/6 - 0s - 13ms/step - accuracy: 0.8466 - loss: 0.4653 - val_accuracy: 0.7708 - val_loss: 0.6300\n",
            "Epoch 16/50\n",
            "6/6 - 0s - 16ms/step - accuracy: 0.8254 - loss: 0.4627 - val_accuracy: 0.7708 - val_loss: 0.6230\n",
            "Epoch 17/50\n",
            "6/6 - 0s - 25ms/step - accuracy: 0.8307 - loss: 0.4768 - val_accuracy: 0.7917 - val_loss: 0.6147\n",
            "Epoch 18/50\n",
            "6/6 - 0s - 18ms/step - accuracy: 0.8519 - loss: 0.4426 - val_accuracy: 0.7917 - val_loss: 0.6073\n",
            "Epoch 19/50\n",
            "6/6 - 0s - 14ms/step - accuracy: 0.8413 - loss: 0.4518 - val_accuracy: 0.7917 - val_loss: 0.5991\n",
            "Epoch 20/50\n",
            "6/6 - 0s - 16ms/step - accuracy: 0.8307 - loss: 0.4589 - val_accuracy: 0.7708 - val_loss: 0.5911\n",
            "Epoch 21/50\n",
            "6/6 - 0s - 13ms/step - accuracy: 0.8201 - loss: 0.4542 - val_accuracy: 0.7917 - val_loss: 0.5832\n",
            "Epoch 22/50\n",
            "6/6 - 0s - 25ms/step - accuracy: 0.8254 - loss: 0.4431 - val_accuracy: 0.8125 - val_loss: 0.5740\n",
            "Epoch 23/50\n",
            "6/6 - 0s - 27ms/step - accuracy: 0.8624 - loss: 0.4211 - val_accuracy: 0.8125 - val_loss: 0.5655\n",
            "Epoch 24/50\n",
            "6/6 - 0s - 22ms/step - accuracy: 0.8413 - loss: 0.4408 - val_accuracy: 0.8125 - val_loss: 0.5587\n",
            "Epoch 25/50\n",
            "6/6 - 0s - 25ms/step - accuracy: 0.8201 - loss: 0.4574 - val_accuracy: 0.8333 - val_loss: 0.5511\n",
            "Epoch 26/50\n",
            "6/6 - 0s - 45ms/step - accuracy: 0.8677 - loss: 0.4225 - val_accuracy: 0.8333 - val_loss: 0.5432\n",
            "Epoch 27/50\n",
            "6/6 - 0s - 25ms/step - accuracy: 0.8519 - loss: 0.4213 - val_accuracy: 0.8333 - val_loss: 0.5341\n",
            "Epoch 28/50\n",
            "6/6 - 0s - 24ms/step - accuracy: 0.8466 - loss: 0.4107 - val_accuracy: 0.8542 - val_loss: 0.5255\n",
            "Epoch 29/50\n",
            "6/6 - 0s - 19ms/step - accuracy: 0.8360 - loss: 0.4319 - val_accuracy: 0.8542 - val_loss: 0.5173\n",
            "Epoch 30/50\n",
            "6/6 - 0s - 18ms/step - accuracy: 0.8307 - loss: 0.4142 - val_accuracy: 0.8542 - val_loss: 0.5089\n",
            "Epoch 31/50\n",
            "6/6 - 0s - 21ms/step - accuracy: 0.8413 - loss: 0.4171 - val_accuracy: 0.8750 - val_loss: 0.5003\n",
            "Epoch 32/50\n",
            "6/6 - 0s - 20ms/step - accuracy: 0.8519 - loss: 0.4038 - val_accuracy: 0.8750 - val_loss: 0.4920\n",
            "Epoch 33/50\n",
            "6/6 - 0s - 21ms/step - accuracy: 0.8307 - loss: 0.4141 - val_accuracy: 0.8750 - val_loss: 0.4846\n",
            "Epoch 34/50\n",
            "6/6 - 0s - 27ms/step - accuracy: 0.8095 - loss: 0.4220 - val_accuracy: 0.8750 - val_loss: 0.4769\n",
            "Epoch 35/50\n",
            "6/6 - 0s - 61ms/step - accuracy: 0.8413 - loss: 0.4127 - val_accuracy: 0.8750 - val_loss: 0.4689\n",
            "Epoch 36/50\n",
            "6/6 - 0s - 47ms/step - accuracy: 0.8360 - loss: 0.4102 - val_accuracy: 0.8750 - val_loss: 0.4600\n",
            "Epoch 37/50\n",
            "6/6 - 0s - 45ms/step - accuracy: 0.8254 - loss: 0.4200 - val_accuracy: 0.8750 - val_loss: 0.4513\n",
            "Epoch 38/50\n",
            "6/6 - 0s - 42ms/step - accuracy: 0.8413 - loss: 0.3954 - val_accuracy: 0.8750 - val_loss: 0.4432\n",
            "Epoch 39/50\n",
            "6/6 - 0s - 61ms/step - accuracy: 0.8519 - loss: 0.3981 - val_accuracy: 0.8750 - val_loss: 0.4349\n",
            "Epoch 40/50\n",
            "6/6 - 0s - 56ms/step - accuracy: 0.8519 - loss: 0.3828 - val_accuracy: 0.8750 - val_loss: 0.4282\n",
            "Epoch 41/50\n",
            "6/6 - 0s - 42ms/step - accuracy: 0.8571 - loss: 0.4087 - val_accuracy: 0.8750 - val_loss: 0.4218\n",
            "Epoch 42/50\n",
            "6/6 - 0s - 50ms/step - accuracy: 0.8413 - loss: 0.3941 - val_accuracy: 0.8750 - val_loss: 0.4137\n",
            "Epoch 43/50\n",
            "6/6 - 0s - 39ms/step - accuracy: 0.8042 - loss: 0.4396 - val_accuracy: 0.8958 - val_loss: 0.4052\n",
            "Epoch 44/50\n",
            "6/6 - 0s - 13ms/step - accuracy: 0.8360 - loss: 0.3885 - val_accuracy: 0.8958 - val_loss: 0.4018\n",
            "Epoch 45/50\n",
            "6/6 - 0s - 23ms/step - accuracy: 0.8413 - loss: 0.3787 - val_accuracy: 0.8958 - val_loss: 0.3977\n",
            "Epoch 46/50\n",
            "6/6 - 0s - 23ms/step - accuracy: 0.8519 - loss: 0.3887 - val_accuracy: 0.8958 - val_loss: 0.3895\n",
            "Epoch 47/50\n",
            "6/6 - 0s - 22ms/step - accuracy: 0.8571 - loss: 0.3909 - val_accuracy: 0.9167 - val_loss: 0.3810\n",
            "Epoch 48/50\n",
            "6/6 - 0s - 26ms/step - accuracy: 0.8519 - loss: 0.3658 - val_accuracy: 0.9167 - val_loss: 0.3754\n",
            "Epoch 49/50\n",
            "6/6 - 0s - 14ms/step - accuracy: 0.8571 - loss: 0.3654 - val_accuracy: 0.8958 - val_loss: 0.3699\n",
            "Epoch 50/50\n",
            "6/6 - 0s - 26ms/step - accuracy: 0.8624 - loss: 0.3673 - val_accuracy: 0.8958 - val_loss: 0.3644\n"
          ]
        }
      ],
      "source": [
        "model.compile(\n",
        "    loss='binary_crossentropy',\n",
        "    optimizer=keras.optimizers.Adam(learning_rate=0.001),\n",
        "    metrics=['accuracy']\n",
        ")\n",
        "\n",
        "\n",
        "early_stopping = EarlyStopping(monitor='val_loss', patience=10, restore_best_weights=True)\n",
        "\n",
        "# Treinando o Modelo\n",
        "\n",
        "history = model.fit(\n",
        "    X_train, y_train,\n",
        "    epochs=50,\n",
        "    validation_split=0.2,\n",
        "    verbose=2,\n",
        "    callbacks=[early_stopping]\n",
        "\n",
        ")"
      ]
    },
    {
      "cell_type": "markdown",
      "source": [
        "## **Avaliação**"
      ],
      "metadata": {
        "id": "FOJMBbClV2-t"
      }
    },
    {
      "cell_type": "code",
      "source": [
        "# Acurácia\n",
        "\n",
        "plt.figure(figsize=(12, 6))\n",
        "plt.subplot(1, 2, 1)\n",
        "plt.plot(history.history['accuracy'], label='Acurácia Treino')\n",
        "plt.plot(history.history['val_accuracy'], label='Acurácia Validação')\n",
        "plt.title('Acurácia por Época')\n",
        "plt.xlabel('Épocas')\n",
        "plt.ylabel('Acurácia')\n",
        "plt.legend()\n",
        "\n",
        "# Perda\n",
        "\n",
        "plt.subplot(1, 2, 2)\n",
        "plt.plot(history.history['loss'], label='Perda Treino')\n",
        "plt.plot(history.history['val_loss'], label='Perda Validação')\n",
        "plt.title('Perda por Época')\n",
        "plt.xlabel('Épocas')\n",
        "plt.ylabel('Perda')\n",
        "plt.legend()"
      ],
      "metadata": {
        "colab": {
          "base_uri": "https://localhost:8080/",
          "height": 587
        },
        "id": "mW1HnVmD5DYT",
        "outputId": "eb46f824-7f18-44e2-80d4-10c849bba568"
      },
      "execution_count": 69,
      "outputs": [
        {
          "output_type": "execute_result",
          "data": {
            "text/plain": [
              "<matplotlib.legend.Legend at 0x7c0c62ed5ff0>"
            ]
          },
          "metadata": {},
          "execution_count": 69
        },
        {
          "output_type": "display_data",
          "data": {
            "text/plain": [
              "<Figure size 1200x600 with 2 Axes>"
            ],
            "image/png": "[encoded data removed]"
          },
          "metadata": {}
        }
      ]
    },
    {
      "cell_type": "code",
      "execution_count": 70,
      "metadata": {
        "id": "_oB5DnGCF2qf",
        "colab": {
          "base_uri": "https://localhost:8080/"
        },
        "outputId": "f80a3a69-b39d-46da-df0b-69f22d55f7f8"
      },
      "outputs": [
        {
          "output_type": "stream",
          "name": "stdout",
          "text": [
            "\n",
            "=== Avaliação do modelo (Teste) ===\n",
            "\n",
            "\u001b[1m2/2\u001b[0m \u001b[32m━━━━━━━━━━━━━━━━━━━━\u001b[0m\u001b[37m\u001b[0m \u001b[1m0s\u001b[0m 8ms/step - accuracy: 0.7500 - loss: 0.5837 \n",
            "\n",
            "Perda (teste): 0.561\n",
            "Acurácia (Teste): 0.75\n"
          ]
        }
      ],
      "source": [
        "# Avaliando com conjunto de testes\n",
        "\n",
        "print('\\n=== Avaliação do modelo (Teste) ===\\n')\n",
        "results = model.evaluate(X_test, y_test, batch_size=32)\n",
        "\n",
        "print('\\nPerda (teste): {}\\nAcurácia (Teste): {}'.format(round(results[0],3), round(results[1],3)))\n"
      ]
    }
  ],
  "metadata": {
    "colab": {
      "provenance": []
    },
    "kernelspec": {
      "display_name": "Python 3",
      "name": "python3"
    },
    "language_info": {
      "name": "python"
    }
  },
  "nbformat": 4,
  "nbformat_minor": 0
}