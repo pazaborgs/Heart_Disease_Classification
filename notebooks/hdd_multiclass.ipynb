{
  "cells": [
    {
      "cell_type": "markdown",
      "source": [
        "# **Classificação: Grau de Risco de Doença Cardíaca - Redes Neurais**"
      ],
      "metadata": {
        "id": "cPCY64OMWRXq"
      }
    },
    {
      "cell_type": "markdown",
      "source": [
        "## Dependências"
      ],
      "metadata": {
        "id": "yyvwXD-rWa3N"
      }
    },
    {
      "cell_type": "code",
      "execution_count": 56,
      "metadata": {
        "colab": {
          "base_uri": "https://localhost:8080/"
        },
        "id": "mpFmno3f9vDz",
        "outputId": "13f939bc-0a95-4d8e-912e-45b43628bfda"
      },
      "outputs": [
        {
          "output_type": "stream",
          "name": "stdout",
          "text": [
            "Requirement already satisfied: ucimlrepo in /usr/local/lib/python3.10/dist-packages (0.0.7)\n",
            "Requirement already satisfied: pandas>=1.0.0 in /usr/local/lib/python3.10/dist-packages (from ucimlrepo) (2.2.2)\n",
            "Requirement already satisfied: certifi>=2020.12.5 in /usr/local/lib/python3.10/dist-packages (from ucimlrepo) (2024.8.30)\n",
            "Requirement already satisfied: numpy>=1.22.4 in /usr/local/lib/python3.10/dist-packages (from pandas>=1.0.0->ucimlrepo) (1.26.4)\n",
            "Requirement already satisfied: python-dateutil>=2.8.2 in /usr/local/lib/python3.10/dist-packages (from pandas>=1.0.0->ucimlrepo) (2.8.2)\n",
            "Requirement already satisfied: pytz>=2020.1 in /usr/local/lib/python3.10/dist-packages (from pandas>=1.0.0->ucimlrepo) (2024.2)\n",
            "Requirement already satisfied: tzdata>=2022.7 in /usr/local/lib/python3.10/dist-packages (from pandas>=1.0.0->ucimlrepo) (2024.2)\n",
            "Requirement already satisfied: six>=1.5 in /usr/local/lib/python3.10/dist-packages (from python-dateutil>=2.8.2->pandas>=1.0.0->ucimlrepo) (1.16.0)\n",
            "\n",
            "TensorFlow: 2.17.0\n",
            "Numpy: 1.26.4\n"
          ]
        }
      ],
      "source": [
        "# dataset UCI\n",
        "\n",
        "!pip install ucimlrepo\n",
        "from ucimlrepo import fetch_ucirepo\n",
        "\n",
        "# tf, keras\n",
        "\n",
        "import tensorflow as tf\n",
        "from tensorflow import keras\n",
        "from keras import layers\n",
        "from keras import Model\n",
        "from keras.layers import Dense, Dropout, BatchNormalization\n",
        "from keras.layers import LeakyReLU, ReLU\n",
        "from keras import regularizers\n",
        "from keras.optimizers import Adam\n",
        "from keras.callbacks import EarlyStopping\n",
        "\n",
        "# np, Plt, seaborn\n",
        "\n",
        "import pandas as pd\n",
        "import numpy as np\n",
        "import matplotlib.pyplot as plt\n",
        "from matplotlib.image import imread\n",
        "\n",
        "# sk-learn\n",
        "\n",
        "from sklearn.preprocessing import MinMaxScaler\n",
        "from sklearn.preprocessing import OneHotEncoder\n",
        "from sklearn.model_selection import train_test_split\n",
        "from sklearn.metrics import accuracy_score, confusion_matrix, classification_report\n",
        "\n",
        "print('\\nTensorFlow: {}'.format(tf.__version__))\n",
        "print('Numpy: {}'.format(np.__version__))"
      ]
    },
    {
      "cell_type": "markdown",
      "source": [
        "## Dataset"
      ],
      "metadata": {
        "id": "8SGPy_kbWdee"
      }
    },
    {
      "cell_type": "code",
      "execution_count": 57,
      "metadata": {
        "id": "cE1LpJQVADX7"
      },
      "outputs": [],
      "source": [
        "# fetch dataset\n",
        "dados = fetch_ucirepo(id=45)\n",
        "\n",
        "features = dados.data.features\n",
        "targets = dados.data.targets\n",
        "\n",
        "df = features\n",
        "df['target'] = targets"
      ]
    },
    {
      "cell_type": "markdown",
      "source": [
        "## NAs, Split"
      ],
      "metadata": {
        "id": "S2BxVuTXWfrN"
      }
    },
    {
      "cell_type": "code",
      "execution_count": 58,
      "metadata": {
        "id": "ShxiXv2jA7gW"
      },
      "outputs": [],
      "source": [
        "df = df[~df.isin(['?'])]\n",
        "df = df.dropna(axis=0)"
      ]
    },
    {
      "cell_type": "code",
      "execution_count": 59,
      "metadata": {
        "id": "ZqCySAiNBWex"
      },
      "outputs": [],
      "source": [
        "# X, y split\n",
        "\n",
        "X = df.drop(['target'], axis=1)\n",
        "y =  df['target']"
      ]
    },
    {
      "cell_type": "markdown",
      "source": [
        "## Train_Test, Normalização, One Hot Encoding"
      ],
      "metadata": {
        "id": "XJ9_3H0CWkHs"
      }
    },
    {
      "cell_type": "code",
      "execution_count": 60,
      "metadata": {
        "id": "-L2E_J8RA9VX"
      },
      "outputs": [],
      "source": [
        "X_train, X_test, y_train, y_test = train_test_split(X, y, test_size=0.2)"
      ]
    },
    {
      "cell_type": "code",
      "execution_count": 61,
      "metadata": {
        "id": "bLFh4IhxBNJu"
      },
      "outputs": [],
      "source": [
        "scaler = MinMaxScaler()"
      ]
    },
    {
      "cell_type": "code",
      "execution_count": 62,
      "metadata": {
        "colab": {
          "base_uri": "https://localhost:8080/"
        },
        "id": "HnDZES2PA3Mf",
        "outputId": "55412e78-f844-4409-96a8-27a65d1b8205"
      },
      "outputs": [
        {
          "output_type": "execute_result",
          "data": {
            "text/plain": [
              "(237, 13)"
            ]
          },
          "metadata": {},
          "execution_count": 62
        }
      ],
      "source": [
        "# Normalização\n",
        "\n",
        "X_train = scaler.fit_transform(X_train)\n",
        "X_test = scaler.fit_transform(X_test)\n",
        "\n",
        "X_train.shape"
      ]
    },
    {
      "cell_type": "code",
      "execution_count": 68,
      "metadata": {
        "id": "RMmMf6_cCZI6"
      },
      "outputs": [],
      "source": [
        "# OHE\n",
        "\n",
        "y_train = keras.utils.to_categorical(y_train, num_class)\n",
        "y_test =  keras.utils.to_categorical(y_test, num_class)"
      ]
    },
    {
      "cell_type": "markdown",
      "metadata": {
        "id": "Xmr8gKT59jIM"
      },
      "source": [
        "## **Modelo Classificação Multiclass**"
      ]
    },
    {
      "cell_type": "code",
      "execution_count": 66,
      "metadata": {
        "id": "VVl6QV-O9eN8"
      },
      "outputs": [],
      "source": [
        "model = keras.Sequential()\n",
        "\n",
        "# Entrada\n",
        "model.add(keras.Input(shape=(13,)))\n",
        "\n",
        "# Camada um\n",
        "model.add(Dense(8, kernel_regularizer=regularizers.l2(0.001)))\n",
        "model.add(LeakyReLU())\n",
        "model.add(BatchNormalization())\n",
        "\n",
        "# Camada dois\n",
        "model.add(Dense(16, kernel_regularizer=regularizers.l2(0.001)))\n",
        "model.add(LeakyReLU())\n",
        "model.add(BatchNormalization())\n",
        "\n",
        "# Dropout\n",
        "model.add(Dropout(0.2))\n",
        "\n",
        "# Camada tr~es\n",
        "model.add(Dense(8, kernel_regularizer=regularizers.l2(0.001)))\n",
        "model.add(LeakyReLU())\n",
        "model.add(BatchNormalization())\n",
        "\n",
        "model.add(Dense(4, kernel_regularizer=regularizers.l2(0.001)))\n",
        "model.add(LeakyReLU())\n",
        "model.add(BatchNormalization())\n",
        "\n",
        "model.add(Dense(1, activation='softmax'))"
      ]
    },
    {
      "cell_type": "code",
      "execution_count": 67,
      "metadata": {
        "id": "BfHN3tSsE-I6",
        "colab": {
          "base_uri": "https://localhost:8080/"
        },
        "outputId": "67ef882b-ad65-4e3f-d906-56f72dd8805e"
      },
      "outputs": [
        {
          "output_type": "stream",
          "name": "stdout",
          "text": [
            "Epoch 1/50\n"
          ]
        },
        {
          "output_type": "stream",
          "name": "stderr",
          "text": [
            "/usr/local/lib/python3.10/dist-packages/keras/src/ops/nn.py:545: UserWarning: You are using a softmax over axis -1 of a tensor of shape (None, 1). This axis has size 1. The softmax operation will always return the value 1, which is likely not what you intended. Did you mean to use a sigmoid instead?\n",
            "  warnings.warn(\n",
            "/usr/local/lib/python3.10/dist-packages/keras/src/losses/losses.py:27: SyntaxWarning: In loss categorical_crossentropy, expected y_pred.shape to be (batch_size, num_classes) with num_classes > 1. Received: y_pred.shape=(None, 1). Consider using 'binary_crossentropy' if you only have 2 classes.\n",
            "  return self.fn(y_true, y_pred, **self._fn_kwargs)\n"
          ]
        },
        {
          "output_type": "stream",
          "name": "stdout",
          "text": [
            "19/19 - 4s - 220ms/step - accuracy: 0.2011 - loss: 0.0355 - val_accuracy: 0.1458 - val_loss: 0.0355\n",
            "Epoch 2/50\n",
            "19/19 - 0s - 11ms/step - accuracy: 0.2011 - loss: 0.0355 - val_accuracy: 0.1458 - val_loss: 0.0355\n",
            "Epoch 3/50\n",
            "19/19 - 0s - 10ms/step - accuracy: 0.2011 - loss: 0.0355 - val_accuracy: 0.1458 - val_loss: 0.0355\n",
            "Epoch 4/50\n",
            "19/19 - 0s - 8ms/step - accuracy: 0.2011 - loss: 0.0355 - val_accuracy: 0.1458 - val_loss: 0.0355\n",
            "Epoch 5/50\n",
            "19/19 - 0s - 5ms/step - accuracy: 0.2011 - loss: 0.0355 - val_accuracy: 0.1458 - val_loss: 0.0355\n",
            "Epoch 6/50\n",
            "19/19 - 0s - 5ms/step - accuracy: 0.2011 - loss: 0.0355 - val_accuracy: 0.1458 - val_loss: 0.0355\n",
            "Epoch 7/50\n",
            "19/19 - 0s - 8ms/step - accuracy: 0.2011 - loss: 0.0355 - val_accuracy: 0.1458 - val_loss: 0.0355\n",
            "Epoch 8/50\n",
            "19/19 - 0s - 5ms/step - accuracy: 0.2011 - loss: 0.0355 - val_accuracy: 0.1458 - val_loss: 0.0355\n",
            "Epoch 9/50\n",
            "19/19 - 0s - 8ms/step - accuracy: 0.2011 - loss: 0.0355 - val_accuracy: 0.1458 - val_loss: 0.0356\n",
            "Epoch 10/50\n",
            "19/19 - 0s - 7ms/step - accuracy: 0.2011 - loss: 0.0356 - val_accuracy: 0.1458 - val_loss: 0.0356\n",
            "Epoch 11/50\n",
            "19/19 - 0s - 7ms/step - accuracy: 0.2011 - loss: 0.0356 - val_accuracy: 0.1458 - val_loss: 0.0356\n",
            "Epoch 12/50\n",
            "19/19 - 0s - 8ms/step - accuracy: 0.2011 - loss: 0.0356 - val_accuracy: 0.1458 - val_loss: 0.0356\n",
            "Epoch 13/50\n",
            "19/19 - 0s - 7ms/step - accuracy: 0.2011 - loss: 0.0356 - val_accuracy: 0.1458 - val_loss: 0.0356\n",
            "Epoch 14/50\n",
            "19/19 - 0s - 8ms/step - accuracy: 0.2011 - loss: 0.0356 - val_accuracy: 0.1458 - val_loss: 0.0356\n",
            "Epoch 15/50\n",
            "19/19 - 0s - 6ms/step - accuracy: 0.2011 - loss: 0.0356 - val_accuracy: 0.1458 - val_loss: 0.0356\n",
            "Epoch 16/50\n",
            "19/19 - 0s - 6ms/step - accuracy: 0.2011 - loss: 0.0356 - val_accuracy: 0.1458 - val_loss: 0.0356\n",
            "Epoch 17/50\n",
            "19/19 - 0s - 5ms/step - accuracy: 0.2011 - loss: 0.0357 - val_accuracy: 0.1458 - val_loss: 0.0357\n",
            "Epoch 18/50\n",
            "19/19 - 0s - 5ms/step - accuracy: 0.2011 - loss: 0.0357 - val_accuracy: 0.1458 - val_loss: 0.0357\n",
            "Epoch 19/50\n",
            "19/19 - 0s - 6ms/step - accuracy: 0.2011 - loss: 0.0357 - val_accuracy: 0.1458 - val_loss: 0.0357\n",
            "Epoch 20/50\n",
            "19/19 - 0s - 5ms/step - accuracy: 0.2011 - loss: 0.0357 - val_accuracy: 0.1458 - val_loss: 0.0357\n",
            "Epoch 21/50\n",
            "19/19 - 0s - 5ms/step - accuracy: 0.2011 - loss: 0.0357 - val_accuracy: 0.1458 - val_loss: 0.0357\n",
            "Epoch 22/50\n",
            "19/19 - 0s - 8ms/step - accuracy: 0.2011 - loss: 0.0357 - val_accuracy: 0.1458 - val_loss: 0.0357\n",
            "Epoch 23/50\n",
            "19/19 - 0s - 6ms/step - accuracy: 0.2011 - loss: 0.0357 - val_accuracy: 0.1458 - val_loss: 0.0358\n",
            "Epoch 24/50\n",
            "19/19 - 0s - 7ms/step - accuracy: 0.2011 - loss: 0.0358 - val_accuracy: 0.1458 - val_loss: 0.0358\n",
            "Epoch 25/50\n",
            "19/19 - 0s - 7ms/step - accuracy: 0.2011 - loss: 0.0358 - val_accuracy: 0.1458 - val_loss: 0.0358\n",
            "Epoch 26/50\n",
            "19/19 - 0s - 7ms/step - accuracy: 0.2011 - loss: 0.0358 - val_accuracy: 0.1458 - val_loss: 0.0358\n",
            "Epoch 27/50\n",
            "19/19 - 0s - 5ms/step - accuracy: 0.2011 - loss: 0.0358 - val_accuracy: 0.1458 - val_loss: 0.0358\n",
            "Epoch 28/50\n",
            "19/19 - 0s - 8ms/step - accuracy: 0.2011 - loss: 0.0358 - val_accuracy: 0.1458 - val_loss: 0.0358\n",
            "Epoch 29/50\n",
            "19/19 - 0s - 6ms/step - accuracy: 0.2011 - loss: 0.0358 - val_accuracy: 0.1458 - val_loss: 0.0358\n",
            "Epoch 30/50\n",
            "19/19 - 0s - 6ms/step - accuracy: 0.2011 - loss: 0.0358 - val_accuracy: 0.1458 - val_loss: 0.0358\n",
            "Epoch 31/50\n",
            "19/19 - 0s - 7ms/step - accuracy: 0.2011 - loss: 0.0357 - val_accuracy: 0.1458 - val_loss: 0.0357\n",
            "Epoch 32/50\n",
            "19/19 - 0s - 5ms/step - accuracy: 0.2011 - loss: 0.0357 - val_accuracy: 0.1458 - val_loss: 0.0357\n",
            "Epoch 33/50\n",
            "19/19 - 0s - 7ms/step - accuracy: 0.2011 - loss: 0.0357 - val_accuracy: 0.1458 - val_loss: 0.0357\n",
            "Epoch 34/50\n",
            "19/19 - 0s - 5ms/step - accuracy: 0.2011 - loss: 0.0357 - val_accuracy: 0.1458 - val_loss: 0.0357\n",
            "Epoch 35/50\n",
            "19/19 - 0s - 7ms/step - accuracy: 0.2011 - loss: 0.0357 - val_accuracy: 0.1458 - val_loss: 0.0357\n",
            "Epoch 36/50\n",
            "19/19 - 0s - 8ms/step - accuracy: 0.2011 - loss: 0.0357 - val_accuracy: 0.1458 - val_loss: 0.0357\n",
            "Epoch 37/50\n",
            "19/19 - 0s - 5ms/step - accuracy: 0.2011 - loss: 0.0357 - val_accuracy: 0.1458 - val_loss: 0.0357\n",
            "Epoch 38/50\n",
            "19/19 - 0s - 8ms/step - accuracy: 0.2011 - loss: 0.0357 - val_accuracy: 0.1458 - val_loss: 0.0357\n",
            "Epoch 39/50\n",
            "19/19 - 0s - 5ms/step - accuracy: 0.2011 - loss: 0.0357 - val_accuracy: 0.1458 - val_loss: 0.0357\n",
            "Epoch 40/50\n",
            "19/19 - 0s - 8ms/step - accuracy: 0.2011 - loss: 0.0357 - val_accuracy: 0.1458 - val_loss: 0.0357\n",
            "Epoch 41/50\n",
            "19/19 - 0s - 5ms/step - accuracy: 0.2011 - loss: 0.0357 - val_accuracy: 0.1458 - val_loss: 0.0357\n",
            "Epoch 42/50\n",
            "19/19 - 0s - 6ms/step - accuracy: 0.2011 - loss: 0.0357 - val_accuracy: 0.1458 - val_loss: 0.0357\n",
            "Epoch 43/50\n",
            "19/19 - 0s - 6ms/step - accuracy: 0.2011 - loss: 0.0357 - val_accuracy: 0.1458 - val_loss: 0.0357\n",
            "Epoch 44/50\n",
            "19/19 - 0s - 7ms/step - accuracy: 0.2011 - loss: 0.0357 - val_accuracy: 0.1458 - val_loss: 0.0357\n",
            "Epoch 45/50\n",
            "19/19 - 0s - 5ms/step - accuracy: 0.2011 - loss: 0.0357 - val_accuracy: 0.1458 - val_loss: 0.0357\n",
            "Epoch 46/50\n",
            "19/19 - 0s - 8ms/step - accuracy: 0.2011 - loss: 0.0357 - val_accuracy: 0.1458 - val_loss: 0.0357\n",
            "Epoch 47/50\n",
            "19/19 - 0s - 5ms/step - accuracy: 0.2011 - loss: 0.0357 - val_accuracy: 0.1458 - val_loss: 0.0357\n",
            "Epoch 48/50\n",
            "19/19 - 0s - 7ms/step - accuracy: 0.2011 - loss: 0.0357 - val_accuracy: 0.1458 - val_loss: 0.0356\n",
            "Epoch 49/50\n",
            "19/19 - 0s - 6ms/step - accuracy: 0.2011 - loss: 0.0356 - val_accuracy: 0.1458 - val_loss: 0.0357\n",
            "Epoch 50/50\n",
            "19/19 - 0s - 7ms/step - accuracy: 0.2011 - loss: 0.0357 - val_accuracy: 0.1458 - val_loss: 0.0357\n"
          ]
        }
      ],
      "source": [
        "model.compile(\n",
        "    loss=\"categorical_crossentropy\",\n",
        "    optimizer= keras.optimizers.Adam(learning_rate=0.001),\n",
        "    metrics=[\"accuracy\"]\n",
        ")\n",
        "\n",
        "early_stopping = EarlyStopping(monitor='val_loss', patience=10, restore_best_weights=True)\n",
        "\n",
        "# Treinando o Modelo\n",
        "\n",
        "history = model.fit(\n",
        "    X_train, y_train,\n",
        "    epochs=50,\n",
        "    validation_split=0.2,\n",
        "    verbose=2,\n",
        "    batch_size=10\n",
        "\n",
        ")"
      ]
    },
    {
      "cell_type": "code",
      "source": [
        "# Acurácia\n",
        "\n",
        "plt.figure(figsize=(12, 6))\n",
        "plt.subplot(1, 2, 1)\n",
        "plt.plot(history.history['accuracy'], label='Acurácia Treino')\n",
        "plt.plot(history.history['val_accuracy'], label='Acurácia Validação')\n",
        "plt.title('Acurácia por Época')\n",
        "plt.xlabel('Épocas')\n",
        "plt.ylabel('Acurácia')\n",
        "plt.legend()\n",
        "\n",
        "# Perda\n",
        "\n",
        "plt.subplot(1, 2, 2)\n",
        "plt.plot(history.history['loss'], label='Perda Treino')\n",
        "plt.plot(history.history['val_loss'], label='Perda Validação')\n",
        "plt.title('Perda por Época')\n",
        "plt.xlabel('Épocas')\n",
        "plt.ylabel('Perda')\n",
        "plt.legend()"
      ],
      "metadata": {
        "id": "MLlS3Ovf2fVl"
      },
      "execution_count": null,
      "outputs": []
    },
    {
      "cell_type": "code",
      "execution_count": null,
      "metadata": {
        "id": "_oB5DnGCF2qf"
      },
      "outputs": [],
      "source": [
        "# Avaliando com conjunto de testes\n",
        "\n",
        "print('\\n=== Avaliação do modelo (Teste) ===\\n')\n",
        "results = model.evaluate(X_test, y_test, batch_size=32)\n",
        "\n",
        "print('\\nPerda (teste): {}\\nAcurácia (Teste): {}'.format(round(results[0],3), round(results[1],3)))\n"
      ]
    }
  ],
  "metadata": {
    "colab": {
      "provenance": []
    },
    "kernelspec": {
      "display_name": "Python 3",
      "name": "python3"
    },
    "language_info": {
      "name": "python"
    }
  },
  "nbformat": 4,
  "nbformat_minor": 0
}